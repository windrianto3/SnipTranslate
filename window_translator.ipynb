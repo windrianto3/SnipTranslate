{
 "cells": [
  {
   "cell_type": "code",
   "execution_count": 18,
   "metadata": {},
   "outputs": [],
   "source": [
    "from PIL import Image\n",
    "from PIL import ImageGrab\n",
    "import os\n",
    "import pyautogui\n",
    "from pytesseract import image_to_string\n",
    "import pytesseract\n",
    "import win32gui\n",
    "from wscreenshot import Screenshot\n",
    "import cv2\n",
    "from dotenv import load_dotenv\n",
    "import deepl as dl"
   ]
  },
  {
   "attachments": {},
   "cell_type": "markdown",
   "metadata": {},
   "source": [
    "Function to save screenshot"
   ]
  },
  {
   "cell_type": "code",
   "execution_count": 77,
   "metadata": {},
   "outputs": [],
   "source": [
    "def saveScreenScreenshot():\n",
    "    screenshot = pyautogui.screenshot()\n",
    "    screenshot.save(fp=os.path.join(\"screenshots/picture.png\"))\n",
    "    return screenshot"
   ]
  },
  {
   "attachments": {},
   "cell_type": "markdown",
   "metadata": {},
   "source": [
    "Function to list all windows"
   ]
  },
  {
   "cell_type": "code",
   "execution_count": 78,
   "metadata": {},
   "outputs": [
    {
     "name": "stdout",
     "output_type": "stream",
     "text": [
      "[(591272, '● window_translator.ipynb - translator - Visual Studio Code'), (67104, 'tesserocr python process image - Google Search - Google Chrome'), (9176682, 'Anaconda Navigator'), (132738, '#gaemz | Cappuccino - Discord'), (591552, 'GitHub Desktop'), (2425560, 'Anaconda Prompt (Anaconda3) - conda  install -c conda-forge tesserocr - conda  install -c conda-forge pyautogui'), (919526, 'Calculator'), (132442, 'RPCS3 0.0.27-14879-999caea0 Alpha | master'), (524888, 'translator'), (263646, 'Setup'), (263214, 'Groove Music'), (197454, 'Groove Music'), (131702, 'Settings'), (131746, 'Settings'), (262962, 'NVIDIA GeForce Overlay'), (66316, 'Microsoft Text Input Application'), (65880, 'Program Manager')]\n"
     ]
    }
   ],
   "source": [
    "def list_window_names():\n",
    "    toplist, winlist = [], []\n",
    "    def enum_cb(hwnd, results):\n",
    "        if win32gui.IsWindowVisible(hwnd) and win32gui.GetWindowText(hwnd) != '':\n",
    "            winlist.append((hwnd, win32gui.GetWindowText(hwnd)))\n",
    "    win32gui.EnumWindows(enum_cb, toplist)\n",
    "    return winlist\n",
    "\n",
    "winlist = list_window_names()\n",
    "print (winlist)"
   ]
  },
  {
   "cell_type": "code",
   "execution_count": 79,
   "metadata": {},
   "outputs": [],
   "source": [
    "# function to save screenshot of a window given the name of the window, the save directory path, and the list of windows\n",
    "def saveWindowScreenshot(windowstr, winlist, save_path):\n",
    "    import win32gui\n",
    "    import win32ui\n",
    "    from ctypes import windll\n",
    "    from PIL import Image\n",
    "\n",
    "    window = [(hwnd, title) for hwnd, title in winlist if windowstr in title.lower()]\n",
    "    print(window)\n",
    "    # just grab the hwnd for first window match\n",
    "    hwnd = window[0]\n",
    "    hwnd = hwnd[0]\n",
    "\n",
    "    #print(hwnd)\n",
    "\n",
    "    windll.user32.SetProcessDPIAware()\n",
    "\n",
    "    # Change the line below depending on whether you want the whole window\n",
    "    # or just the client area. \n",
    "    #left, top, right, bot = win32gui.GetClientRect(hwnd)\n",
    "    left, top, right, bot = win32gui.GetWindowRect(hwnd)\n",
    "    w = right - left\n",
    "    h = bot - top\n",
    "\n",
    "    hwndDC = win32gui.GetWindowDC(hwnd)\n",
    "    mfcDC  = win32ui.CreateDCFromHandle(hwndDC)\n",
    "    saveDC = mfcDC.CreateCompatibleDC()\n",
    "\n",
    "    saveBitMap = win32ui.CreateBitmap()\n",
    "    saveBitMap.CreateCompatibleBitmap(mfcDC, w, h)\n",
    "\n",
    "    saveDC.SelectObject(saveBitMap)\n",
    "\n",
    "    # Change the line below depending on whether you want the whole window\n",
    "    # or just the client area. \n",
    "    #result = windll.user32.PrintWindow(hwnd, saveDC.GetSafeHdc(), 1)\n",
    "    result = windll.user32.PrintWindow(hwnd, saveDC.GetSafeHdc(), 2)\n",
    "    #print(result)\n",
    "\n",
    "    bmpinfo = saveBitMap.GetInfo()\n",
    "    bmpstr = saveBitMap.GetBitmapBits(True)\n",
    "\n",
    "    im = Image.frombuffer(\n",
    "    'RGB',\n",
    "    (bmpinfo['bmWidth'], bmpinfo['bmHeight']),\n",
    "    bmpstr, 'raw', 'BGRX', 0, 1)\n",
    "\n",
    "    win32gui.DeleteObject(saveBitMap.GetHandle())\n",
    "    saveDC.DeleteDC()\n",
    "    mfcDC.DeleteDC()\n",
    "    win32gui.ReleaseDC(hwnd, hwndDC)\n",
    "\n",
    "    if result == 1:\n",
    "        #PrintWindow Succeeded\n",
    "        im.save(save_path)\n",
    "        im.show()\n",
    "    return im"
   ]
  },
  {
   "attachments": {},
   "cell_type": "markdown",
   "metadata": {},
   "source": [
    "Get screenshot of your chrome window"
   ]
  },
  {
   "cell_type": "code",
   "execution_count": null,
   "metadata": {},
   "outputs": [],
   "source": [
    "save_path = os.path.join(\"window_screenshots/window_screenshot.png\")\n",
    "windowstr = 'chrome'\n",
    "\n",
    "saveWindowScreenshot(save_path=save_path, windowstr=windowstr,  winlist=winlist)"
   ]
  },
  {
   "attachments": {},
   "cell_type": "markdown",
   "metadata": {},
   "source": [
    "# Run OCR on a window screenshot"
   ]
  },
  {
   "cell_type": "code",
   "execution_count": 82,
   "metadata": {},
   "outputs": [],
   "source": [
    "pil_image = Image.open('screenshots/picture.png')"
   ]
  },
  {
   "cell_type": "code",
   "execution_count": 107,
   "metadata": {},
   "outputs": [
    {
     "name": "stdout",
     "output_type": "stream",
     "text": [
      "Table of Contents\n",
      "Introduction\n",
      "\n",
      "Open Source OCR Tools\n",
      "\n",
      "Tesseract OCR\n",
      "\n",
      "OCR with Pytesseract and OpenCV\n",
      "Training Tesseract on custom data\n",
      "Limitations of Tesseract\n",
      "\n",
      "OCR with Nanonets\n",
      "\n",
      "Nanonets and Humans in the Loop\n",
      "Conclusion\n",
      "\n",
      "Further Reading\n",
      "\n"
     ]
    }
   ],
   "source": [
    "api = PyTessBaseAPI()\n",
    "api.SetImage(pil_image)\n",
    "text = api.GetUTF8Text()\n",
    "print(text)"
   ]
  },
  {
   "cell_type": "code",
   "execution_count": 2,
   "metadata": {},
   "outputs": [
    {
     "name": "stdout",
     "output_type": "stream",
     "text": [
      "[千東バンド「光の中へ」 歌詞]\n",
      "\n",
      "[Verse 1]\n",
      "(私+ 期待 - 不安) xギター=ロックだ\n",
      "(私+君 - 時間) =ギター=ライブだ\n",
      "\n",
      "[Pre-Chorus]\n",
      "載々恐々 になつてる\n",
      "本番8小範前\n",
      "\n",
      "感ぶっ壊して\n",
      "光の中へ飛び出した\n",
      "\n",
      "[Chorus]\n",
      "\n",
      "生まれたよーつ 新しい世界が\n",
      "この時間 この場所 まるで絵\n",
      "毎分毎秒が奇 剥邪の煙めき\n",
      "\n",
      "日々の隙間に意味を落とせ\n",
      "\n",
      "上手くいかなくても\n",
      "\n",
      "前を向けなくても\n",
      "\n",
      "ごのフレーズ この歌 本当に好きな音\n",
      "屯張ったって爪弾き それでも爪弾き\n",
      "届けてみよう 不器用でも\n",
      "東ねていごう 何処までも\n",
      "\n",
      "\n"
     ]
    }
   ],
   "source": [
    "def get_grayscale(image):\n",
    "    return cv2.cvtColor(image, cv2.COLOR_BGR2GRAY)\n",
    "img2 = get_grayscale(cv2.imread('screenshots/picture.png'))\n",
    "\n",
    "text_to_tl = image_to_string(img2, lang='jpn')\n",
    "print(text_to_tl)"
   ]
  },
  {
   "attachments": {},
   "cell_type": "markdown",
   "metadata": {},
   "source": [
    "# Translate Text"
   ]
  },
  {
   "cell_type": "code",
   "execution_count": 7,
   "metadata": {},
   "outputs": [
    {
     "name": "stdout",
     "output_type": "stream",
     "text": [
      "5b7ff8af-8c3b-921f-90fb-3bc8ae4d5d11:fx\n"
     ]
    }
   ],
   "source": [
    "load_dotenv()\n",
    "deepl_token = os.environ.get(\"api-token\")\n",
    "print(deepl_token)"
   ]
  },
  {
   "cell_type": "code",
   "execution_count": 16,
   "metadata": {},
   "outputs": [
    {
     "ename": "AttributeError",
     "evalue": "module 'deepl' has no attribute 'Translator'",
     "output_type": "error",
     "traceback": [
      "\u001b[1;31m---------------------------------------------------------------------------\u001b[0m",
      "\u001b[1;31mAttributeError\u001b[0m                            Traceback (most recent call last)",
      "Cell \u001b[1;32mIn[16], line 1\u001b[0m\n\u001b[1;32m----> 1\u001b[0m tl \u001b[39m=\u001b[39m dl\u001b[39m.\u001b[39;49mTranslator(deepl_token)\n\u001b[0;32m      2\u001b[0m result \u001b[39m=\u001b[39m tl\u001b[39m.\u001b[39mtranslate_text(text_to_tl, target_lang\u001b[39m=\u001b[39m\u001b[39m\"\u001b[39m\u001b[39mEN\u001b[39m\u001b[39m\"\u001b[39m)\n\u001b[0;32m      3\u001b[0m \u001b[39mprint\u001b[39m(result)\n",
      "\u001b[1;31mAttributeError\u001b[0m: module 'deepl' has no attribute 'Translator'"
     ]
    }
   ],
   "source": [
    "tl = dl.Translator(deepl_token)\n",
    "result = tl.translate_text(text_to_tl, target_lang=\"EN\")\n",
    "print(result)"
   ]
  }
 ],
 "metadata": {
  "kernelspec": {
   "display_name": "tp",
   "language": "python",
   "name": "python3"
  },
  "language_info": {
   "codemirror_mode": {
    "name": "ipython",
    "version": 3
   },
   "file_extension": ".py",
   "mimetype": "text/x-python",
   "name": "python",
   "nbconvert_exporter": "python",
   "pygments_lexer": "ipython3",
   "version": "3.9.16"
  },
  "orig_nbformat": 4
 },
 "nbformat": 4,
 "nbformat_minor": 2
}
